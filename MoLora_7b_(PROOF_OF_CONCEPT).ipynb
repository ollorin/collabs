{
  "nbformat": 4,
  "nbformat_minor": 0,
  "metadata": {
    "colab": {
      "provenance": [],
      "gpuType": "T4",
      "include_colab_link": true
    },
    "kernelspec": {
      "name": "python3",
      "display_name": "Python 3"
    },
    "language_info": {
      "name": "python"
    },
    "accelerator": "GPU",
    "widgets": {
      "application/vnd.jupyter.widget-state+json": {
        "3a6ade6110144b1285fb344840e854a5": {
          "model_module": "@jupyter-widgets/controls",
          "model_name": "VBoxModel",
          "model_module_version": "1.5.0",
          "state": {
            "_dom_classes": [],
            "_model_module": "@jupyter-widgets/controls",
            "_model_module_version": "1.5.0",
            "_model_name": "VBoxModel",
            "_view_count": null,
            "_view_module": "@jupyter-widgets/controls",
            "_view_module_version": "1.5.0",
            "_view_name": "VBoxView",
            "box_style": "",
            "children": [
              "IPY_MODEL_fb3910af8b83484ea0de3ed18434b864",
              "IPY_MODEL_5c6617b22498480cbdd8a64446c7a0fc",
              "IPY_MODEL_3e0e8efe4f5c4e5c8fa8648f9b76253d",
              "IPY_MODEL_237244867d954b3690ef58a6b04d58c6",
              "IPY_MODEL_58ef2f61501d43a6b9aae6c6b144981f"
            ],
            "layout": "IPY_MODEL_3de43afb1bf9422c908427674611707c"
          }
        },
        "fb3910af8b83484ea0de3ed18434b864": {
          "model_module": "@jupyter-widgets/controls",
          "model_name": "HTMLModel",
          "model_module_version": "1.5.0",
          "state": {
            "_dom_classes": [],
            "_model_module": "@jupyter-widgets/controls",
            "_model_module_version": "1.5.0",
            "_model_name": "HTMLModel",
            "_view_count": null,
            "_view_module": "@jupyter-widgets/controls",
            "_view_module_version": "1.5.0",
            "_view_name": "HTMLView",
            "description": "",
            "description_tooltip": null,
            "layout": "IPY_MODEL_6f30c2e9f59f4e4cbd698eca61841901",
            "placeholder": "​",
            "style": "IPY_MODEL_0eef9c82005b40c1b09925f269ea5fc8",
            "value": "<center> <img\nsrc=https://huggingface.co/front/assets/huggingface_logo-noborder.svg\nalt='Hugging Face'> <br> Copy a token from <a\nhref=\"https://huggingface.co/settings/tokens\" target=\"_blank\">your Hugging Face\ntokens page</a> and paste it below. <br> Immediately click login after copying\nyour token or it might be stored in plain text in this notebook file. </center>"
          }
        },
        "5c6617b22498480cbdd8a64446c7a0fc": {
          "model_module": "@jupyter-widgets/controls",
          "model_name": "PasswordModel",
          "model_module_version": "1.5.0",
          "state": {
            "_dom_classes": [],
            "_model_module": "@jupyter-widgets/controls",
            "_model_module_version": "1.5.0",
            "_model_name": "PasswordModel",
            "_view_count": null,
            "_view_module": "@jupyter-widgets/controls",
            "_view_module_version": "1.5.0",
            "_view_name": "PasswordView",
            "continuous_update": true,
            "description": "Token:",
            "description_tooltip": null,
            "disabled": false,
            "layout": "IPY_MODEL_49f388d77c7e4a6295af83bda8ba0406",
            "placeholder": "​",
            "style": "IPY_MODEL_5beea5f2d7f946b8bccf8d4b44d19c62",
            "value": ""
          }
        },
        "3e0e8efe4f5c4e5c8fa8648f9b76253d": {
          "model_module": "@jupyter-widgets/controls",
          "model_name": "CheckboxModel",
          "model_module_version": "1.5.0",
          "state": {
            "_dom_classes": [],
            "_model_module": "@jupyter-widgets/controls",
            "_model_module_version": "1.5.0",
            "_model_name": "CheckboxModel",
            "_view_count": null,
            "_view_module": "@jupyter-widgets/controls",
            "_view_module_version": "1.5.0",
            "_view_name": "CheckboxView",
            "description": "Add token as git credential?",
            "description_tooltip": null,
            "disabled": false,
            "indent": true,
            "layout": "IPY_MODEL_1da16c609499411db8f24938be446cae",
            "style": "IPY_MODEL_c3119f5d342a4d628f7a51c2c5b75134",
            "value": true
          }
        },
        "237244867d954b3690ef58a6b04d58c6": {
          "model_module": "@jupyter-widgets/controls",
          "model_name": "ButtonModel",
          "model_module_version": "1.5.0",
          "state": {
            "_dom_classes": [],
            "_model_module": "@jupyter-widgets/controls",
            "_model_module_version": "1.5.0",
            "_model_name": "ButtonModel",
            "_view_count": null,
            "_view_module": "@jupyter-widgets/controls",
            "_view_module_version": "1.5.0",
            "_view_name": "ButtonView",
            "button_style": "",
            "description": "Login",
            "disabled": false,
            "icon": "",
            "layout": "IPY_MODEL_2c916cb68f714d86a7d00ccec82e371a",
            "style": "IPY_MODEL_125b852145b347479f6ffbec7f0b18f5",
            "tooltip": ""
          }
        },
        "58ef2f61501d43a6b9aae6c6b144981f": {
          "model_module": "@jupyter-widgets/controls",
          "model_name": "HTMLModel",
          "model_module_version": "1.5.0",
          "state": {
            "_dom_classes": [],
            "_model_module": "@jupyter-widgets/controls",
            "_model_module_version": "1.5.0",
            "_model_name": "HTMLModel",
            "_view_count": null,
            "_view_module": "@jupyter-widgets/controls",
            "_view_module_version": "1.5.0",
            "_view_name": "HTMLView",
            "description": "",
            "description_tooltip": null,
            "layout": "IPY_MODEL_1e7da97d40b7485f80fb15f98831e3cc",
            "placeholder": "​",
            "style": "IPY_MODEL_f49a1b1940894eb5b7495aed299298bc",
            "value": "\n<b>Pro Tip:</b> If you don't already have one, you can create a dedicated\n'notebooks' token with 'write' access, that you can then easily reuse for all\nnotebooks. </center>"
          }
        },
        "3de43afb1bf9422c908427674611707c": {
          "model_module": "@jupyter-widgets/base",
          "model_name": "LayoutModel",
          "model_module_version": "1.2.0",
          "state": {
            "_model_module": "@jupyter-widgets/base",
            "_model_module_version": "1.2.0",
            "_model_name": "LayoutModel",
            "_view_count": null,
            "_view_module": "@jupyter-widgets/base",
            "_view_module_version": "1.2.0",
            "_view_name": "LayoutView",
            "align_content": null,
            "align_items": "center",
            "align_self": null,
            "border": null,
            "bottom": null,
            "display": "flex",
            "flex": null,
            "flex_flow": "column",
            "grid_area": null,
            "grid_auto_columns": null,
            "grid_auto_flow": null,
            "grid_auto_rows": null,
            "grid_column": null,
            "grid_gap": null,
            "grid_row": null,
            "grid_template_areas": null,
            "grid_template_columns": null,
            "grid_template_rows": null,
            "height": null,
            "justify_content": null,
            "justify_items": null,
            "left": null,
            "margin": null,
            "max_height": null,
            "max_width": null,
            "min_height": null,
            "min_width": null,
            "object_fit": null,
            "object_position": null,
            "order": null,
            "overflow": null,
            "overflow_x": null,
            "overflow_y": null,
            "padding": null,
            "right": null,
            "top": null,
            "visibility": null,
            "width": "50%"
          }
        },
        "6f30c2e9f59f4e4cbd698eca61841901": {
          "model_module": "@jupyter-widgets/base",
          "model_name": "LayoutModel",
          "model_module_version": "1.2.0",
          "state": {
            "_model_module": "@jupyter-widgets/base",
            "_model_module_version": "1.2.0",
            "_model_name": "LayoutModel",
            "_view_count": null,
            "_view_module": "@jupyter-widgets/base",
            "_view_module_version": "1.2.0",
            "_view_name": "LayoutView",
            "align_content": null,
            "align_items": null,
            "align_self": null,
            "border": null,
            "bottom": null,
            "display": null,
            "flex": null,
            "flex_flow": null,
            "grid_area": null,
            "grid_auto_columns": null,
            "grid_auto_flow": null,
            "grid_auto_rows": null,
            "grid_column": null,
            "grid_gap": null,
            "grid_row": null,
            "grid_template_areas": null,
            "grid_template_columns": null,
            "grid_template_rows": null,
            "height": null,
            "justify_content": null,
            "justify_items": null,
            "left": null,
            "margin": null,
            "max_height": null,
            "max_width": null,
            "min_height": null,
            "min_width": null,
            "object_fit": null,
            "object_position": null,
            "order": null,
            "overflow": null,
            "overflow_x": null,
            "overflow_y": null,
            "padding": null,
            "right": null,
            "top": null,
            "visibility": null,
            "width": null
          }
        },
        "0eef9c82005b40c1b09925f269ea5fc8": {
          "model_module": "@jupyter-widgets/controls",
          "model_name": "DescriptionStyleModel",
          "model_module_version": "1.5.0",
          "state": {
            "_model_module": "@jupyter-widgets/controls",
            "_model_module_version": "1.5.0",
            "_model_name": "DescriptionStyleModel",
            "_view_count": null,
            "_view_module": "@jupyter-widgets/base",
            "_view_module_version": "1.2.0",
            "_view_name": "StyleView",
            "description_width": ""
          }
        },
        "49f388d77c7e4a6295af83bda8ba0406": {
          "model_module": "@jupyter-widgets/base",
          "model_name": "LayoutModel",
          "model_module_version": "1.2.0",
          "state": {
            "_model_module": "@jupyter-widgets/base",
            "_model_module_version": "1.2.0",
            "_model_name": "LayoutModel",
            "_view_count": null,
            "_view_module": "@jupyter-widgets/base",
            "_view_module_version": "1.2.0",
            "_view_name": "LayoutView",
            "align_content": null,
            "align_items": null,
            "align_self": null,
            "border": null,
            "bottom": null,
            "display": null,
            "flex": null,
            "flex_flow": null,
            "grid_area": null,
            "grid_auto_columns": null,
            "grid_auto_flow": null,
            "grid_auto_rows": null,
            "grid_column": null,
            "grid_gap": null,
            "grid_row": null,
            "grid_template_areas": null,
            "grid_template_columns": null,
            "grid_template_rows": null,
            "height": null,
            "justify_content": null,
            "justify_items": null,
            "left": null,
            "margin": null,
            "max_height": null,
            "max_width": null,
            "min_height": null,
            "min_width": null,
            "object_fit": null,
            "object_position": null,
            "order": null,
            "overflow": null,
            "overflow_x": null,
            "overflow_y": null,
            "padding": null,
            "right": null,
            "top": null,
            "visibility": null,
            "width": null
          }
        },
        "5beea5f2d7f946b8bccf8d4b44d19c62": {
          "model_module": "@jupyter-widgets/controls",
          "model_name": "DescriptionStyleModel",
          "model_module_version": "1.5.0",
          "state": {
            "_model_module": "@jupyter-widgets/controls",
            "_model_module_version": "1.5.0",
            "_model_name": "DescriptionStyleModel",
            "_view_count": null,
            "_view_module": "@jupyter-widgets/base",
            "_view_module_version": "1.2.0",
            "_view_name": "StyleView",
            "description_width": ""
          }
        },
        "1da16c609499411db8f24938be446cae": {
          "model_module": "@jupyter-widgets/base",
          "model_name": "LayoutModel",
          "model_module_version": "1.2.0",
          "state": {
            "_model_module": "@jupyter-widgets/base",
            "_model_module_version": "1.2.0",
            "_model_name": "LayoutModel",
            "_view_count": null,
            "_view_module": "@jupyter-widgets/base",
            "_view_module_version": "1.2.0",
            "_view_name": "LayoutView",
            "align_content": null,
            "align_items": null,
            "align_self": null,
            "border": null,
            "bottom": null,
            "display": null,
            "flex": null,
            "flex_flow": null,
            "grid_area": null,
            "grid_auto_columns": null,
            "grid_auto_flow": null,
            "grid_auto_rows": null,
            "grid_column": null,
            "grid_gap": null,
            "grid_row": null,
            "grid_template_areas": null,
            "grid_template_columns": null,
            "grid_template_rows": null,
            "height": null,
            "justify_content": null,
            "justify_items": null,
            "left": null,
            "margin": null,
            "max_height": null,
            "max_width": null,
            "min_height": null,
            "min_width": null,
            "object_fit": null,
            "object_position": null,
            "order": null,
            "overflow": null,
            "overflow_x": null,
            "overflow_y": null,
            "padding": null,
            "right": null,
            "top": null,
            "visibility": null,
            "width": null
          }
        },
        "c3119f5d342a4d628f7a51c2c5b75134": {
          "model_module": "@jupyter-widgets/controls",
          "model_name": "DescriptionStyleModel",
          "model_module_version": "1.5.0",
          "state": {
            "_model_module": "@jupyter-widgets/controls",
            "_model_module_version": "1.5.0",
            "_model_name": "DescriptionStyleModel",
            "_view_count": null,
            "_view_module": "@jupyter-widgets/base",
            "_view_module_version": "1.2.0",
            "_view_name": "StyleView",
            "description_width": ""
          }
        },
        "2c916cb68f714d86a7d00ccec82e371a": {
          "model_module": "@jupyter-widgets/base",
          "model_name": "LayoutModel",
          "model_module_version": "1.2.0",
          "state": {
            "_model_module": "@jupyter-widgets/base",
            "_model_module_version": "1.2.0",
            "_model_name": "LayoutModel",
            "_view_count": null,
            "_view_module": "@jupyter-widgets/base",
            "_view_module_version": "1.2.0",
            "_view_name": "LayoutView",
            "align_content": null,
            "align_items": null,
            "align_self": null,
            "border": null,
            "bottom": null,
            "display": null,
            "flex": null,
            "flex_flow": null,
            "grid_area": null,
            "grid_auto_columns": null,
            "grid_auto_flow": null,
            "grid_auto_rows": null,
            "grid_column": null,
            "grid_gap": null,
            "grid_row": null,
            "grid_template_areas": null,
            "grid_template_columns": null,
            "grid_template_rows": null,
            "height": null,
            "justify_content": null,
            "justify_items": null,
            "left": null,
            "margin": null,
            "max_height": null,
            "max_width": null,
            "min_height": null,
            "min_width": null,
            "object_fit": null,
            "object_position": null,
            "order": null,
            "overflow": null,
            "overflow_x": null,
            "overflow_y": null,
            "padding": null,
            "right": null,
            "top": null,
            "visibility": null,
            "width": null
          }
        },
        "125b852145b347479f6ffbec7f0b18f5": {
          "model_module": "@jupyter-widgets/controls",
          "model_name": "ButtonStyleModel",
          "model_module_version": "1.5.0",
          "state": {
            "_model_module": "@jupyter-widgets/controls",
            "_model_module_version": "1.5.0",
            "_model_name": "ButtonStyleModel",
            "_view_count": null,
            "_view_module": "@jupyter-widgets/base",
            "_view_module_version": "1.2.0",
            "_view_name": "StyleView",
            "button_color": null,
            "font_weight": ""
          }
        },
        "1e7da97d40b7485f80fb15f98831e3cc": {
          "model_module": "@jupyter-widgets/base",
          "model_name": "LayoutModel",
          "model_module_version": "1.2.0",
          "state": {
            "_model_module": "@jupyter-widgets/base",
            "_model_module_version": "1.2.0",
            "_model_name": "LayoutModel",
            "_view_count": null,
            "_view_module": "@jupyter-widgets/base",
            "_view_module_version": "1.2.0",
            "_view_name": "LayoutView",
            "align_content": null,
            "align_items": null,
            "align_self": null,
            "border": null,
            "bottom": null,
            "display": null,
            "flex": null,
            "flex_flow": null,
            "grid_area": null,
            "grid_auto_columns": null,
            "grid_auto_flow": null,
            "grid_auto_rows": null,
            "grid_column": null,
            "grid_gap": null,
            "grid_row": null,
            "grid_template_areas": null,
            "grid_template_columns": null,
            "grid_template_rows": null,
            "height": null,
            "justify_content": null,
            "justify_items": null,
            "left": null,
            "margin": null,
            "max_height": null,
            "max_width": null,
            "min_height": null,
            "min_width": null,
            "object_fit": null,
            "object_position": null,
            "order": null,
            "overflow": null,
            "overflow_x": null,
            "overflow_y": null,
            "padding": null,
            "right": null,
            "top": null,
            "visibility": null,
            "width": null
          }
        },
        "f49a1b1940894eb5b7495aed299298bc": {
          "model_module": "@jupyter-widgets/controls",
          "model_name": "DescriptionStyleModel",
          "model_module_version": "1.5.0",
          "state": {
            "_model_module": "@jupyter-widgets/controls",
            "_model_module_version": "1.5.0",
            "_model_name": "DescriptionStyleModel",
            "_view_count": null,
            "_view_module": "@jupyter-widgets/base",
            "_view_module_version": "1.2.0",
            "_view_name": "StyleView",
            "description_width": ""
          }
        },
        "85313c83b08146a1918a786263d95eac": {
          "model_module": "@jupyter-widgets/controls",
          "model_name": "HBoxModel",
          "model_module_version": "1.5.0",
          "state": {
            "_dom_classes": [],
            "_model_module": "@jupyter-widgets/controls",
            "_model_module_version": "1.5.0",
            "_model_name": "HBoxModel",
            "_view_count": null,
            "_view_module": "@jupyter-widgets/controls",
            "_view_module_version": "1.5.0",
            "_view_name": "HBoxView",
            "box_style": "",
            "children": [
              "IPY_MODEL_2891c93ce7bd4bf188882f8661c07ff2",
              "IPY_MODEL_62a4c4a35cda4ca5bc1ef5841647a430",
              "IPY_MODEL_a689e83f182d432e9a7283314dbb4c90"
            ],
            "layout": "IPY_MODEL_f7e80fa595584e04933cd29307538d72"
          }
        },
        "2891c93ce7bd4bf188882f8661c07ff2": {
          "model_module": "@jupyter-widgets/controls",
          "model_name": "HTMLModel",
          "model_module_version": "1.5.0",
          "state": {
            "_dom_classes": [],
            "_model_module": "@jupyter-widgets/controls",
            "_model_module_version": "1.5.0",
            "_model_name": "HTMLModel",
            "_view_count": null,
            "_view_module": "@jupyter-widgets/controls",
            "_view_module_version": "1.5.0",
            "_view_name": "HTMLView",
            "description": "",
            "description_tooltip": null,
            "layout": "IPY_MODEL_ba99293ea00f44dabe7680011eda4c1b",
            "placeholder": "​",
            "style": "IPY_MODEL_61711ef67815464898c7a35141084b77",
            "value": "Loading checkpoint shards: 100%"
          }
        },
        "62a4c4a35cda4ca5bc1ef5841647a430": {
          "model_module": "@jupyter-widgets/controls",
          "model_name": "FloatProgressModel",
          "model_module_version": "1.5.0",
          "state": {
            "_dom_classes": [],
            "_model_module": "@jupyter-widgets/controls",
            "_model_module_version": "1.5.0",
            "_model_name": "FloatProgressModel",
            "_view_count": null,
            "_view_module": "@jupyter-widgets/controls",
            "_view_module_version": "1.5.0",
            "_view_name": "ProgressView",
            "bar_style": "success",
            "description": "",
            "description_tooltip": null,
            "layout": "IPY_MODEL_18d41ca785404582ad62232fcaa13884",
            "max": 2,
            "min": 0,
            "orientation": "horizontal",
            "style": "IPY_MODEL_06244b7cec5740c6843cfc69a81b3d56",
            "value": 2
          }
        },
        "a689e83f182d432e9a7283314dbb4c90": {
          "model_module": "@jupyter-widgets/controls",
          "model_name": "HTMLModel",
          "model_module_version": "1.5.0",
          "state": {
            "_dom_classes": [],
            "_model_module": "@jupyter-widgets/controls",
            "_model_module_version": "1.5.0",
            "_model_name": "HTMLModel",
            "_view_count": null,
            "_view_module": "@jupyter-widgets/controls",
            "_view_module_version": "1.5.0",
            "_view_name": "HTMLView",
            "description": "",
            "description_tooltip": null,
            "layout": "IPY_MODEL_9fe8c26de34f4da7a3e14e4a6847d664",
            "placeholder": "​",
            "style": "IPY_MODEL_69c705929347412ea2595046661c70f0",
            "value": " 2/2 [01:43&lt;00:00, 46.46s/it]"
          }
        },
        "f7e80fa595584e04933cd29307538d72": {
          "model_module": "@jupyter-widgets/base",
          "model_name": "LayoutModel",
          "model_module_version": "1.2.0",
          "state": {
            "_model_module": "@jupyter-widgets/base",
            "_model_module_version": "1.2.0",
            "_model_name": "LayoutModel",
            "_view_count": null,
            "_view_module": "@jupyter-widgets/base",
            "_view_module_version": "1.2.0",
            "_view_name": "LayoutView",
            "align_content": null,
            "align_items": null,
            "align_self": null,
            "border": null,
            "bottom": null,
            "display": null,
            "flex": null,
            "flex_flow": null,
            "grid_area": null,
            "grid_auto_columns": null,
            "grid_auto_flow": null,
            "grid_auto_rows": null,
            "grid_column": null,
            "grid_gap": null,
            "grid_row": null,
            "grid_template_areas": null,
            "grid_template_columns": null,
            "grid_template_rows": null,
            "height": null,
            "justify_content": null,
            "justify_items": null,
            "left": null,
            "margin": null,
            "max_height": null,
            "max_width": null,
            "min_height": null,
            "min_width": null,
            "object_fit": null,
            "object_position": null,
            "order": null,
            "overflow": null,
            "overflow_x": null,
            "overflow_y": null,
            "padding": null,
            "right": null,
            "top": null,
            "visibility": null,
            "width": null
          }
        },
        "ba99293ea00f44dabe7680011eda4c1b": {
          "model_module": "@jupyter-widgets/base",
          "model_name": "LayoutModel",
          "model_module_version": "1.2.0",
          "state": {
            "_model_module": "@jupyter-widgets/base",
            "_model_module_version": "1.2.0",
            "_model_name": "LayoutModel",
            "_view_count": null,
            "_view_module": "@jupyter-widgets/base",
            "_view_module_version": "1.2.0",
            "_view_name": "LayoutView",
            "align_content": null,
            "align_items": null,
            "align_self": null,
            "border": null,
            "bottom": null,
            "display": null,
            "flex": null,
            "flex_flow": null,
            "grid_area": null,
            "grid_auto_columns": null,
            "grid_auto_flow": null,
            "grid_auto_rows": null,
            "grid_column": null,
            "grid_gap": null,
            "grid_row": null,
            "grid_template_areas": null,
            "grid_template_columns": null,
            "grid_template_rows": null,
            "height": null,
            "justify_content": null,
            "justify_items": null,
            "left": null,
            "margin": null,
            "max_height": null,
            "max_width": null,
            "min_height": null,
            "min_width": null,
            "object_fit": null,
            "object_position": null,
            "order": null,
            "overflow": null,
            "overflow_x": null,
            "overflow_y": null,
            "padding": null,
            "right": null,
            "top": null,
            "visibility": null,
            "width": null
          }
        },
        "61711ef67815464898c7a35141084b77": {
          "model_module": "@jupyter-widgets/controls",
          "model_name": "DescriptionStyleModel",
          "model_module_version": "1.5.0",
          "state": {
            "_model_module": "@jupyter-widgets/controls",
            "_model_module_version": "1.5.0",
            "_model_name": "DescriptionStyleModel",
            "_view_count": null,
            "_view_module": "@jupyter-widgets/base",
            "_view_module_version": "1.2.0",
            "_view_name": "StyleView",
            "description_width": ""
          }
        },
        "18d41ca785404582ad62232fcaa13884": {
          "model_module": "@jupyter-widgets/base",
          "model_name": "LayoutModel",
          "model_module_version": "1.2.0",
          "state": {
            "_model_module": "@jupyter-widgets/base",
            "_model_module_version": "1.2.0",
            "_model_name": "LayoutModel",
            "_view_count": null,
            "_view_module": "@jupyter-widgets/base",
            "_view_module_version": "1.2.0",
            "_view_name": "LayoutView",
            "align_content": null,
            "align_items": null,
            "align_self": null,
            "border": null,
            "bottom": null,
            "display": null,
            "flex": null,
            "flex_flow": null,
            "grid_area": null,
            "grid_auto_columns": null,
            "grid_auto_flow": null,
            "grid_auto_rows": null,
            "grid_column": null,
            "grid_gap": null,
            "grid_row": null,
            "grid_template_areas": null,
            "grid_template_columns": null,
            "grid_template_rows": null,
            "height": null,
            "justify_content": null,
            "justify_items": null,
            "left": null,
            "margin": null,
            "max_height": null,
            "max_width": null,
            "min_height": null,
            "min_width": null,
            "object_fit": null,
            "object_position": null,
            "order": null,
            "overflow": null,
            "overflow_x": null,
            "overflow_y": null,
            "padding": null,
            "right": null,
            "top": null,
            "visibility": null,
            "width": null
          }
        },
        "06244b7cec5740c6843cfc69a81b3d56": {
          "model_module": "@jupyter-widgets/controls",
          "model_name": "ProgressStyleModel",
          "model_module_version": "1.5.0",
          "state": {
            "_model_module": "@jupyter-widgets/controls",
            "_model_module_version": "1.5.0",
            "_model_name": "ProgressStyleModel",
            "_view_count": null,
            "_view_module": "@jupyter-widgets/base",
            "_view_module_version": "1.2.0",
            "_view_name": "StyleView",
            "bar_color": null,
            "description_width": ""
          }
        },
        "9fe8c26de34f4da7a3e14e4a6847d664": {
          "model_module": "@jupyter-widgets/base",
          "model_name": "LayoutModel",
          "model_module_version": "1.2.0",
          "state": {
            "_model_module": "@jupyter-widgets/base",
            "_model_module_version": "1.2.0",
            "_model_name": "LayoutModel",
            "_view_count": null,
            "_view_module": "@jupyter-widgets/base",
            "_view_module_version": "1.2.0",
            "_view_name": "LayoutView",
            "align_content": null,
            "align_items": null,
            "align_self": null,
            "border": null,
            "bottom": null,
            "display": null,
            "flex": null,
            "flex_flow": null,
            "grid_area": null,
            "grid_auto_columns": null,
            "grid_auto_flow": null,
            "grid_auto_rows": null,
            "grid_column": null,
            "grid_gap": null,
            "grid_row": null,
            "grid_template_areas": null,
            "grid_template_columns": null,
            "grid_template_rows": null,
            "height": null,
            "justify_content": null,
            "justify_items": null,
            "left": null,
            "margin": null,
            "max_height": null,
            "max_width": null,
            "min_height": null,
            "min_width": null,
            "object_fit": null,
            "object_position": null,
            "order": null,
            "overflow": null,
            "overflow_x": null,
            "overflow_y": null,
            "padding": null,
            "right": null,
            "top": null,
            "visibility": null,
            "width": null
          }
        },
        "69c705929347412ea2595046661c70f0": {
          "model_module": "@jupyter-widgets/controls",
          "model_name": "DescriptionStyleModel",
          "model_module_version": "1.5.0",
          "state": {
            "_model_module": "@jupyter-widgets/controls",
            "_model_module_version": "1.5.0",
            "_model_name": "DescriptionStyleModel",
            "_view_count": null,
            "_view_module": "@jupyter-widgets/base",
            "_view_module_version": "1.2.0",
            "_view_name": "StyleView",
            "description_width": ""
          }
        }
      }
    }
  },
  "cells": [
    {
      "cell_type": "markdown",
      "metadata": {
        "id": "view-in-github",
        "colab_type": "text"
      },
      "source": [
        "<a href=\"https://colab.research.google.com/github/ollorin/collabs/blob/main/MoLora_7b_(PROOF_OF_CONCEPT).ipynb\" target=\"_parent\"><img src=\"https://colab.research.google.com/assets/colab-badge.svg\" alt=\"Open In Colab\"/></a>"
      ]
    },
    {
      "cell_type": "markdown",
      "source": [
        "# MoLora (Mixture of LoRAs) LLaMA-2-7b\n",
        "\n",
        "This is four adapters trained on around 1m tokens of different clusters of WizardLM-EvolInstruct, as a proof-of-concept for a larger project. This is the first iteration of MoLora. You need to sign in to HuggingFace with the notebook login cell because of the not-actually-open nature of LLaMA-2"
      ],
      "metadata": {
        "id": "yBJVVAFoyAjB"
      }
    },
    {
      "cell_type": "code",
      "execution_count": null,
      "metadata": {
        "id": "aTAZTmz2pSgN",
        "colab": {
          "base_uri": "https://localhost:8080/"
        },
        "outputId": "0e3e7de5-da67-4225-e220-75dbd923c0b3"
      },
      "outputs": [
        {
          "output_type": "stream",
          "name": "stdout",
          "text": [
            "  Installing build dependencies ... \u001b[?25l\u001b[?25hdone\n",
            "  Getting requirements to build wheel ... \u001b[?25l\u001b[?25hdone\n",
            "  Preparing metadata (pyproject.toml) ... \u001b[?25l\u001b[?25hdone\n"
          ]
        }
      ],
      "source": [
        "%pip install -qq bitsandbytes accelerate datasets sentence-transformers\n",
        "%pip install -qq git+https://github.com/huggingface/transformers # need to install from github\n",
        "%pip install -qq git+https://github.com/huggingface/peft\n"
      ]
    },
    {
      "cell_type": "code",
      "source": [
        "from huggingface_hub import notebook_login\n",
        "notebook_login()"
      ],
      "metadata": {
        "id": "lls6_jjWpXMp",
        "colab": {
          "base_uri": "https://localhost:8080/",
          "height": 331,
          "referenced_widgets": [
            "3a6ade6110144b1285fb344840e854a5",
            "fb3910af8b83484ea0de3ed18434b864",
            "5c6617b22498480cbdd8a64446c7a0fc",
            "3e0e8efe4f5c4e5c8fa8648f9b76253d",
            "237244867d954b3690ef58a6b04d58c6",
            "58ef2f61501d43a6b9aae6c6b144981f",
            "3de43afb1bf9422c908427674611707c",
            "6f30c2e9f59f4e4cbd698eca61841901",
            "0eef9c82005b40c1b09925f269ea5fc8",
            "49f388d77c7e4a6295af83bda8ba0406",
            "5beea5f2d7f946b8bccf8d4b44d19c62",
            "1da16c609499411db8f24938be446cae",
            "c3119f5d342a4d628f7a51c2c5b75134",
            "2c916cb68f714d86a7d00ccec82e371a",
            "125b852145b347479f6ffbec7f0b18f5",
            "1e7da97d40b7485f80fb15f98831e3cc",
            "f49a1b1940894eb5b7495aed299298bc"
          ]
        },
        "outputId": "20d94b75-5a0f-48bc-84bc-da754e3ff030"
      },
      "execution_count": null,
      "outputs": [
        {
          "output_type": "display_data",
          "data": {
            "text/plain": [
              "VBox(children=(HTML(value='<center> <img\\nsrc=https://huggingface.co/front/assets/huggingface_logo-noborder.sv…"
            ],
            "application/vnd.jupyter.widget-view+json": {
              "version_major": 2,
              "version_minor": 0,
              "model_id": "3a6ade6110144b1285fb344840e854a5"
            }
          },
          "metadata": {}
        }
      ]
    },
    {
      "cell_type": "code",
      "source": [
        "import torch\n",
        "from sentence_transformers import SentenceTransformer\n",
        "from transformers import AutoModelForCausalLM, AutoTokenizer\n",
        "from peft import PeftModel\n",
        "from huggingface_hub import hf_hub_download\n",
        "import datetime\n",
        "\n",
        "embedding_model = SentenceTransformer('sentence-transformers/all-MiniLM-L6-v2')\n",
        "text_model = AutoModelForCausalLM.from_pretrained(\n",
        "    \"meta-llama/Llama-2-7b-hf\", load_in_4bit=True, torch_dtype=torch.float16, low_cpu_mem_usage=True\n",
        ")\n",
        "text_model = PeftModel.from_pretrained(text_model, \"crumb/llama2-7b-moe-text-exp-control-4\", adapter_name=\"default\")\n",
        "tokenizer = AutoTokenizer.from_pretrained(\"meta-llama/Llama-2-7b-hf\")\n",
        "centers = torch.load(hf_hub_download(repo_id=\"crumb/Wizard-EvolInstruct70k-k4\", filename=\"centers.pt\", repo_type=\"dataset\"))\n",
        "centers = centers.cuda()"
      ],
      "metadata": {
        "id": "Zd-qPz36pZ6T",
        "colab": {
          "base_uri": "https://localhost:8080/",
          "height": 49,
          "referenced_widgets": [
            "85313c83b08146a1918a786263d95eac",
            "2891c93ce7bd4bf188882f8661c07ff2",
            "62a4c4a35cda4ca5bc1ef5841647a430",
            "a689e83f182d432e9a7283314dbb4c90",
            "f7e80fa595584e04933cd29307538d72",
            "ba99293ea00f44dabe7680011eda4c1b",
            "61711ef67815464898c7a35141084b77",
            "18d41ca785404582ad62232fcaa13884",
            "06244b7cec5740c6843cfc69a81b3d56",
            "9fe8c26de34f4da7a3e14e4a6847d664",
            "69c705929347412ea2595046661c70f0"
          ]
        },
        "outputId": "3d1bb464-4f08-4b1a-f900-8647e6f0e6f4"
      },
      "execution_count": null,
      "outputs": [
        {
          "output_type": "display_data",
          "data": {
            "text/plain": [
              "Loading checkpoint shards:   0%|          | 0/2 [00:00<?, ?it/s]"
            ],
            "application/vnd.jupyter.widget-view+json": {
              "version_major": 2,
              "version_minor": 0,
              "model_id": "85313c83b08146a1918a786263d95eac"
            }
          },
          "metadata": {}
        }
      ]
    },
    {
      "cell_type": "markdown",
      "source": [
        "see result before custom moe loras, the control lora trained indescriminantly on a mixture of all clusters (so it's instruction tuned, but not made to be task-specific)."
      ],
      "metadata": {
        "id": "QN6cqrCjxlAC"
      }
    },
    {
      "cell_type": "code",
      "source": [
        "prompt = \"Describe how Transformers (Vaswani et. al.) work.\\n\"\n",
        "inputs = {k:v.cuda() for k,v in tokenizer(prompt, return_tensors=\"pt\").items()}\n",
        "outputs = text_model.generate(\n",
        "    **inputs,\n",
        "    max_new_tokens = 256,\n",
        "    temperature = 0.7,\n",
        "    top_k = 20,\n",
        "    top_p = 0.9,\n",
        "    do_sample=True\n",
        ")\n",
        "print(tokenizer.decode(outputs[0]))"
      ],
      "metadata": {
        "colab": {
          "base_uri": "https://localhost:8080/"
        },
        "id": "G65TxetDubaX",
        "outputId": "43322e9e-067d-4278-94c3-54cc649fa9fb"
      },
      "execution_count": null,
      "outputs": [
        {
          "output_type": "stream",
          "name": "stderr",
          "text": [
            "/usr/local/lib/python3.10/dist-packages/transformers/generation/utils.py:1270: UserWarning: You have modified the pretrained model configuration to control generation. This is a deprecated strategy to control generation and will be removed soon, in a future version. Please use a generation configuration file (see https://huggingface.co/docs/transformers/main_classes/text_generation )\n",
            "  warnings.warn(\n"
          ]
        },
        {
          "output_type": "stream",
          "name": "stdout",
          "text": [
            "<s> Describe how Transformers (Vaswani et. al.) work.\n",
            "How does a Transformer learn to recognize an image of a cat, for example?\n",
            "How does the Transformer learn to recognize an image of a dog?\n",
            "How does the Transformer learn to recognize an image of a person?\n",
            "How does the Transformer learn to recognize an image of a car?\n",
            "How does the Transformer learn to recognize an image of a house?\n",
            "How does the Transformer learn to recognize an image of a street?\n",
            "How does the Transformer learn to recognize an image of a person in a car?\n",
            "How does the Transformer learn to recognize an image of a person in a house?\n",
            "How does the Transformer learn to recognize an image of a person in a street?\n",
            "How does the Transformer learn to recognize an image of a person in a car in a house in a street?\n",
            "How does the Transformer learn to recognize an image of a person in a car in a house in a street in a person in a car in a house in a street?\n",
            "How does the Transformer learn to recognize an image of a person in a car in a house in a street in a person in a car in a house in a street in a person in a car in a house in a street in a person\n"
          ]
        }
      ]
    },
    {
      "cell_type": "markdown",
      "source": [
        "we'll now compute the distance from our prompt to each cluster in our dataset, and use that as the weights at which to multiply each expert before summing them together. since their values are very similar, as they're all from the same dataset (among other things), we have to amplify the differences between them with a merge_temperature, otherwise the output of the softmax operation will be close to 0.25 across the board (an even mix between our four experts)"
      ],
      "metadata": {
        "id": "Cu1YFzGDxfMq"
      }
    },
    {
      "cell_type": "code",
      "source": [
        "for i in range(4):\n",
        "    text_model.load_adapter(f\"crumb/llama2-7b-moe-text-exp{str(i)}-4\", adapter_name=f\"expert-{str(i)}\")"
      ],
      "metadata": {
        "id": "aoa4c85dqpPs"
      },
      "execution_count": null,
      "outputs": []
    },
    {
      "cell_type": "code",
      "source": [
        "prompt = \"Describe how Transformers (Vaswani et. al.) work.\\n\"\n",
        "prompt_embedding = torch.tensor(embedding_model.encode([prompt]), device='cuda')\n",
        "\n",
        "# the centroids are very close together, so we can amplify the differences between them to get a more specialized model\n",
        "# play around with merge temp and alpha to see how each affects the model\n",
        "merge_temperature = 2\n",
        "merge_alpha = 16\n",
        "expert_alphas = torch.softmax(\n",
        "    torch.nn.functional.cosine_similarity(prompt_embedding,centers) * merge_temperature, -1\n",
        ").mul(merge_alpha // 4).tolist()\n",
        "print(\"Alpha for each expert:\", expert_alphas)\n",
        "\n",
        "unique_name = str(hash(datetime.datetime.now()))\n",
        "text_model.add_weighted_adapter([f\"expert-{str(i)}\" for i in range(4)], expert_alphas, combination_type=\"linear\", adapter_name=unique_name)\n",
        "text_model.set_adapter(unique_name)"
      ],
      "metadata": {
        "id": "uqZXnbiqp159",
        "colab": {
          "base_uri": "https://localhost:8080/"
        },
        "outputId": "c1a23744-0f4a-4670-8e05-a31df3f85bd7"
      },
      "execution_count": null,
      "outputs": [
        {
          "output_type": "stream",
          "name": "stdout",
          "text": [
            "Alpha for each expert: [0.9232075979227269, 1.1810616590960257, 0.9936784881024902, 0.902052254878757]\n"
          ]
        }
      ]
    },
    {
      "cell_type": "code",
      "source": [
        "inputs = {k:v.cuda() for k,v in tokenizer(prompt, return_tensors=\"pt\").items()}\n",
        "outputs = text_model.generate(\n",
        "    **inputs,\n",
        "    max_new_tokens = 256,\n",
        "    temperature = 0.7,\n",
        "    top_k = 20,\n",
        "    top_p = 0.9,\n",
        "    do_sample=True\n",
        ")\n",
        "print(tokenizer.decode(outputs[0]))"
      ],
      "metadata": {
        "id": "aicmFJc0q2St",
        "colab": {
          "base_uri": "https://localhost:8080/"
        },
        "outputId": "b5613306-0f7b-42a2-a5ca-d4135a2501ae"
      },
      "execution_count": null,
      "outputs": [
        {
          "output_type": "stream",
          "name": "stdout",
          "text": [
            "<s> Describe how Transformers (Vaswani et. al.) work.\n",
            "\n",
            "- Transformers are a type of neural network architecture that uses attention mechanisms to process text inputs.\n",
            "- The architecture consists of two main components: an encoder and a decoder. The encoder takes in a text input and generates a sequence of vectors representing the input. The decoder then takes these vectors and generates a sequence of tokens that represent the text.\n",
            "\n",
            "- The attention mechanism is the key component of the Transformer architecture. It allows the network to focus on specific words or phrases in the input text and generate more accurate results.\n",
            "- The encoder consists of several layers of neural networks that take in the input text and generate a sequence of vectors. The attention mechanism then allows the network to focus on specific words or phrases in the input text.\n",
            "\n",
            "- The decoder then takes these vectors and generates a sequence of tokens that represent the text. The attention mechanism again allows the network to focus on specific words or phrases in the input text and generate more accurate results.\n",
            "\n",
            "- The Transformer architecture is able to generate more accurate results than traditional neural network architectures because of its attention mechanism. It allows the network to focus on specific words or phrases in the input text and generate more accurate results.\n",
            "\n",
            "-\n"
          ]
        }
      ]
    }
  ]
}